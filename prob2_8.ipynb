{
 "cells": [
  {
   "cell_type": "markdown",
   "metadata": {},
   "source": [
    "## Problem 8\n",
    "\n",
    "I chose (through trial and error) the following function to make an egg:\n",
    "\n",
    "$f(\\theta) = \\left[1 + \\frac{1}{4} \\sinh(\\theta)\\right]\\sin\\theta$\n",
    "\n",
    "With this function, the cross-section is plotted below with the egg in black and the radius of the the line-of-constant-latitude in red near the maximum circumference. As this function is difficult to maximize (it's a transcendental equation), I wrote a Newton-Raphson method calculator to find the angle, $\\theta$ where the circumference would be maximized."
   ]
  },
  {
   "cell_type": "code",
   "execution_count": 7,
   "metadata": {},
   "outputs": [],
   "source": [
    "import numpy as np\n",
    "import matplotlib.pyplot as plt\n",
    "%matplotlib inline"
   ]
  },
  {
   "cell_type": "code",
   "execution_count": 8,
   "metadata": {},
   "outputs": [],
   "source": [
    "def f(t):\n",
    "    return np.sin(t) + (0.25*np.sinh(t)*np.sin(t))"
   ]
  },
  {
   "cell_type": "code",
   "execution_count": 9,
   "metadata": {},
   "outputs": [],
   "source": [
    "def shape_plot():\n",
    "    a = 1.0\n",
    "    t = np.linspace(0,np.pi,1000)\n",
    "    d = a*f(t)\n",
    "    x_cor_p = d\n",
    "    x_cor_n = -x_cor_p\n",
    "    z_cor = a * np.pi * np.cos(t) #This should be not cos(t), but sqrt(1-f(t)^(2))\n",
    "    #z_cor = a * np.sqrt(1-f(t)**(2))\n",
    "    wmax = np.where(x_cor_p == np.amax(x_cor_p))[0]\n",
    "    x_line = np.linspace(0,x_cor_p[wmax],100)\n",
    "    z_line = z_cor[wmax] + (0*x_line)\n",
    "    \n",
    "    \n",
    "    fig1,ax1 = plt.subplots(figsize=(5,8))\n",
    "    ax1.scatter(x_cor_p,z_cor,color='black',marker='.')\n",
    "    ax1.scatter(x_cor_n,z_cor,color='black',marker='.')\n",
    "    ax1.scatter(x_line,z_line,color='red',marker='.')\n",
    "    "
   ]
  },
  {
   "cell_type": "markdown",
   "metadata": {},
   "source": [
    "### Fixing the error in the z-coordinate:\n",
    "\n",
    "z-coordinate should be $ z(\\theta) = a\\sqrt{1-f(\\theta)^{2}}$. But this has an issue with only plotting half of the shape (due to the square root). So you have to find where it would double back and fix it there."
   ]
  },
  {
   "cell_type": "code",
   "execution_count": 10,
   "metadata": {},
   "outputs": [
    {
     "data": {
      "image/png": "[encoded data removed]",
      "text/plain": [
       "<Figure size 360x576 with 1 Axes>"
      ]
     },
     "metadata": {},
     "output_type": "display_data"
    }
   ],
   "source": [
    "shape_plot()"
   ]
  },
  {
   "cell_type": "markdown",
   "metadata": {},
   "source": [
    "Here's where I worked to find $\\theta$ for the maximum circumference, so I can find the ratio of this circumference to the pole-to-pole distance (which is a real number, and not some multiple of pi).\n",
    "\n",
    "Below in code is the function:\n",
    "\n",
    "$\\theta_{i+1} = \\theta_{i} - \\bigg[ \\cos{\\theta_i} + 0.25\\left(\\cos{\\theta_i}\\sinh{\\theta_i} + \\sin{\\theta_i}\\cosh{\\theta_i}\\right) / \\left(-\\sin{\\theta_i} + 0.5\\cos{\\theta_i}\\cosh{\\theta_i}\\right) \\bigg]$\n",
    "\n",
    "This iterates until $|\\theta_{i+1} - \\theta{i}| \\leq 10^{-5}$."
   ]
  },
  {
   "cell_type": "code",
   "execution_count": 5,
   "metadata": {},
   "outputs": [],
   "source": [
    "def xi(t):\n",
    "    numer = np.cos(t) + (0.25*np.cos(t)*np.sinh(t)) + (0.25*np.sin(t)*np.cosh(t))\n",
    "    denom = -np.sin(t) + (0.5*np.cos(t)*np.cosh(t))\n",
    "    g = t - (numer / denom)\n",
    "    return g\n",
    "\n",
    "def newt_method(t0):\n",
    "    counter = 10000\n",
    "    fail_check = 0\n",
    "    check_val = 1e-5\n",
    "    t_p = t0\n",
    "    for i in range(counter):\n",
    "        t_n = xi(t_p)\n",
    "        if np.abs(t_n - t_p) <= check_val:\n",
    "            t_final = t_n\n",
    "            break\n",
    "        else:\n",
    "            t_p = t_n\n",
    "        if i+1==counter:\n",
    "            print('No convergence')\n",
    "            fail_check = 1\n",
    "            t_final = t_n\n",
    "    return t_final,fail_check\n",
    "\n",
    "t_root,fc = newt_method(np.pi/2)"
   ]
  },
  {
   "cell_type": "markdown",
   "metadata": {},
   "source": [
    "t_root above is the value for $\\theta$ that maximizes the circumference. The pole-to-pole distance is always $d_{pp} = \\pi a$. The circumference is defined as $C = 2 \\pi a f(\\theta)\\sin{\\theta}$. So the ratio is defined by: $R = 2 f(\\theta) \\sin(\\theta)$."
   ]
  },
  {
   "cell_type": "code",
   "execution_count": 6,
   "metadata": {},
   "outputs": [
    {
     "name": "stdout",
     "output_type": "stream",
     "text": [
      "Ratio of Circumference to d_pole-to_pole: 3.1015\n"
     ]
    }
   ],
   "source": [
    "def circumference(a,t):\n",
    "    return 2*np.pi*a*np.sin(t)*f(t)\n",
    "def dpp(a):\n",
    "    return np.pi*a\n",
    "\n",
    "c_to_d = circumference(1.0,t_root) / dpp(1.0)\n",
    "print('Ratio of Circumference to d_pole-to_pole: {:.4f}'.format(c_to_d))"
   ]
  },
  {
   "cell_type": "markdown",
   "metadata": {},
   "source": [
    "Addendum: For this problem, the purpose is to prepare students for different definitions of a metric and what manifold that metric would create. In this, we are still working in two dimenions, with an azimuthally axisymmetric definition about the z-axis ultimately making this a 1-D problem for a 2-D manifold embedded in 3-D."
   ]
  },
  {
   "cell_type": "code",
   "execution_count": null,
   "metadata": {},
   "outputs": [],
   "source": []
  }
 ],
 "metadata": {
  "kernelspec": {
   "display_name": "Python 3",
   "language": "python",
   "name": "python3"
  },
  "language_info": {
   "codemirror_mode": {
    "name": "ipython",
    "version": 3
   },
   "file_extension": ".py",
   "mimetype": "text/x-python",
   "name": "python",
   "nbconvert_exporter": "python",
   "pygments_lexer": "ipython3",
   "version": "3.6.5"
  }
 },
 "nbformat": 4,
 "nbformat_minor": 2
}
